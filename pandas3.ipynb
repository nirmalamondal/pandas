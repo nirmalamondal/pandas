{
 "cells": [
  {
   "cell_type": "code",
   "execution_count": 1,
   "id": "c1f6be1e-f505-4430-8bb6-4e2ea9136c11",
   "metadata": {},
   "outputs": [],
   "source": [
    "import pandas as pd"
   ]
  },
  {
   "cell_type": "code",
   "execution_count": 4,
   "id": "139aa282-3225-4a7e-bb17-cba4ae53a988",
   "metadata": {},
   "outputs": [],
   "source": [
    "df = pd.read_csv(\"https://raw.githubusercontent.com/datasciencedojo/datasets/master/titanic.csv\")"
   ]
  },
  {
   "cell_type": "code",
   "execution_count": 6,
   "id": "94fd1cf4-d6d5-4e5f-8e16-09729ed33c08",
   "metadata": {},
   "outputs": [
    {
     "data": {
      "text/plain": [
       "Index(['PassengerId', 'Survived', 'Pclass', 'Name', 'Sex', 'Age', 'SibSp',\n",
       "       'Parch', 'Ticket', 'Fare', 'Cabin', 'Embarked'],\n",
       "      dtype='object')"
      ]
     },
     "execution_count": 6,
     "metadata": {},
     "output_type": "execute_result"
    }
   ],
   "source": [
    "df.columns"
   ]
  },
  {
   "cell_type": "code",
   "execution_count": 11,
   "id": "dc89165b-43ff-4eaa-8462-fd30c8e574ab",
   "metadata": {},
   "outputs": [],
   "source": [
    "s = df[\"Name\"]"
   ]
  },
  {
   "cell_type": "code",
   "execution_count": 12,
   "id": "78053241-a58a-43a9-adce-e038d511d9cb",
   "metadata": {},
   "outputs": [
    {
     "data": {
      "text/plain": [
       "891"
      ]
     },
     "execution_count": 12,
     "metadata": {},
     "output_type": "execute_result"
    }
   ],
   "source": [
    "len(s)"
   ]
  },
  {
   "cell_type": "code",
   "execution_count": 13,
   "id": "b5881b5e-46a7-4122-b446-3980cb4a5d05",
   "metadata": {},
   "outputs": [
    {
     "data": {
      "text/plain": [
       "0                                Braund, Mr. Owen Harris\n",
       "1      Cumings, Mrs. John Bradley (Florence Briggs Th...\n",
       "2                                 Heikkinen, Miss. Laina\n",
       "3           Futrelle, Mrs. Jacques Heath (Lily May Peel)\n",
       "4                               Allen, Mr. William Henry\n",
       "                             ...                        \n",
       "886                                Montvila, Rev. Juozas\n",
       "887                         Graham, Miss. Margaret Edith\n",
       "888             Johnston, Miss. Catherine Helen \"Carrie\"\n",
       "889                                Behr, Mr. Karl Howell\n",
       "890                                  Dooley, Mr. Patrick\n",
       "Name: Name, Length: 891, dtype: object"
      ]
     },
     "execution_count": 13,
     "metadata": {},
     "output_type": "execute_result"
    }
   ],
   "source": [
    "s"
   ]
  },
  {
   "cell_type": "code",
   "execution_count": 14,
   "id": "4647e1b0-860e-4097-aece-e019b6aa67fa",
   "metadata": {},
   "outputs": [],
   "source": [
    "s1 = df[\"Name\"][0:10]"
   ]
  },
  {
   "cell_type": "code",
   "execution_count": 15,
   "id": "6aaed5b9-62b2-49b7-8575-413a4f33c35f",
   "metadata": {},
   "outputs": [
    {
     "data": {
      "text/plain": [
       "0                              Braund, Mr. Owen Harris\n",
       "1    Cumings, Mrs. John Bradley (Florence Briggs Th...\n",
       "2                               Heikkinen, Miss. Laina\n",
       "3         Futrelle, Mrs. Jacques Heath (Lily May Peel)\n",
       "4                             Allen, Mr. William Henry\n",
       "5                                     Moran, Mr. James\n",
       "6                              McCarthy, Mr. Timothy J\n",
       "7                       Palsson, Master. Gosta Leonard\n",
       "8    Johnson, Mrs. Oscar W (Elisabeth Vilhelmina Berg)\n",
       "9                  Nasser, Mrs. Nicholas (Adele Achem)\n",
       "Name: Name, dtype: object"
      ]
     },
     "execution_count": 15,
     "metadata": {},
     "output_type": "execute_result"
    }
   ],
   "source": [
    "s1"
   ]
  },
  {
   "cell_type": "code",
   "execution_count": 21,
   "id": "93b39da9-4bd0-4df6-a0ee-51770efaed58",
   "metadata": {},
   "outputs": [
    {
     "data": {
      "text/plain": [
       "pandas.core.series.Series"
      ]
     },
     "execution_count": 21,
     "metadata": {},
     "output_type": "execute_result"
    }
   ],
   "source": [
    "type(s)"
   ]
  },
  {
   "cell_type": "code",
   "execution_count": 22,
   "id": "7e24c997-2155-4e22-ba2a-f4886eb107d0",
   "metadata": {},
   "outputs": [],
   "source": [
    "l = ['a','b','c','d','e','f','g','h','i','j']"
   ]
  },
  {
   "cell_type": "code",
   "execution_count": 28,
   "id": "f0edac1f-5ff2-4e3d-af9f-4f544b0ff212",
   "metadata": {},
   "outputs": [
    {
     "data": {
      "text/plain": [
       "a    NaN\n",
       "b    NaN\n",
       "c    NaN\n",
       "d    NaN\n",
       "e    NaN\n",
       "f    NaN\n",
       "g    NaN\n",
       "h    NaN\n",
       "i    NaN\n",
       "j    NaN\n",
       "Name: Name, dtype: object"
      ]
     },
     "execution_count": 28,
     "metadata": {},
     "output_type": "execute_result"
    }
   ],
   "source": [
    "pd.Series(s1,index=l)"
   ]
  },
  {
   "cell_type": "code",
   "execution_count": 32,
   "id": "eecc80f9-cf86-4c2e-99ce-a8fcc3c9120c",
   "metadata": {},
   "outputs": [],
   "source": [
    "s3=pd.Series(list(s1),index=l)"
   ]
  },
  {
   "cell_type": "code",
   "execution_count": 33,
   "id": "2471d1fd-1067-407e-bd6d-5a9a24f1e24f",
   "metadata": {},
   "outputs": [
    {
     "data": {
      "text/plain": [
       "'Braund, Mr. Owen Harris'"
      ]
     },
     "execution_count": 33,
     "metadata": {},
     "output_type": "execute_result"
    }
   ],
   "source": [
    "s1[0]"
   ]
  },
  {
   "cell_type": "code",
   "execution_count": 34,
   "id": "5c226817-eba7-4130-b958-aaaa6018f3f4",
   "metadata": {},
   "outputs": [
    {
     "data": {
      "text/plain": [
       "'Braund, Mr. Owen Harris'"
      ]
     },
     "execution_count": 34,
     "metadata": {},
     "output_type": "execute_result"
    }
   ],
   "source": [
    "s3['a']"
   ]
  },
  {
   "cell_type": "code",
   "execution_count": 35,
   "id": "ff0cfc6f-08ff-4606-9794-fab27b31f241",
   "metadata": {},
   "outputs": [
    {
     "data": {
      "text/plain": [
       "'Braund, Mr. Owen Harris'"
      ]
     },
     "execution_count": 35,
     "metadata": {},
     "output_type": "execute_result"
    }
   ],
   "source": [
    "s3[0]"
   ]
  },
  {
   "cell_type": "code",
   "execution_count": 37,
   "id": "118f2f71-20d9-4dcc-9141-1b8f9aa8d027",
   "metadata": {},
   "outputs": [
    {
     "name": "stderr",
     "output_type": "stream",
     "text": [
      "/tmp/ipykernel_159/2573398219.py:1: FutureWarning: The series.append method is deprecated and will be removed from pandas in a future version. Use pandas.concat instead.\n",
      "  s4=s1.append(s3)\n"
     ]
    }
   ],
   "source": [
    "s4=s1.append(s3)"
   ]
  },
  {
   "cell_type": "code",
   "execution_count": 38,
   "id": "9836650a-b336-46a0-abb3-5fadb0fa1e62",
   "metadata": {},
   "outputs": [
    {
     "data": {
      "text/plain": [
       "'Braund, Mr. Owen Harris'"
      ]
     },
     "execution_count": 38,
     "metadata": {},
     "output_type": "execute_result"
    }
   ],
   "source": [
    "s4[0]"
   ]
  },
  {
   "cell_type": "code",
   "execution_count": 39,
   "id": "73a34cc6-ecc4-402b-bd04-027101331041",
   "metadata": {},
   "outputs": [
    {
     "data": {
      "text/plain": [
       "'Braund, Mr. Owen Harris'"
      ]
     },
     "execution_count": 39,
     "metadata": {},
     "output_type": "execute_result"
    }
   ],
   "source": [
    "s4['a']"
   ]
  },
  {
   "cell_type": "code",
   "execution_count": 41,
   "id": "0454030f-a59a-43b6-bc85-26983c3117b3",
   "metadata": {},
   "outputs": [],
   "source": [
    "s5=pd.Series([2,3,5,6,7,8],index = [9,8,7,6,5,4])"
   ]
  },
  {
   "cell_type": "code",
   "execution_count": 42,
   "id": "d65e965b-8176-4b31-befb-50f9fa975adf",
   "metadata": {},
   "outputs": [],
   "source": [
    "s6=pd.Series([26,83,59,36,75,80],index = [9,3,7,2,7,4])"
   ]
  },
  {
   "cell_type": "code",
   "execution_count": 43,
   "id": "19f5de90-06f3-420a-b666-ed358309781d",
   "metadata": {},
   "outputs": [
    {
     "name": "stderr",
     "output_type": "stream",
     "text": [
      "/tmp/ipykernel_159/2239679306.py:1: FutureWarning: The series.append method is deprecated and will be removed from pandas in a future version. Use pandas.concat instead.\n",
      "  s6.append(s5)\n"
     ]
    },
    {
     "data": {
      "text/plain": [
       "9    26\n",
       "3    83\n",
       "7    59\n",
       "2    36\n",
       "7    75\n",
       "4    80\n",
       "9     2\n",
       "8     3\n",
       "7     5\n",
       "6     6\n",
       "5     7\n",
       "4     8\n",
       "dtype: int64"
      ]
     },
     "execution_count": 43,
     "metadata": {},
     "output_type": "execute_result"
    }
   ],
   "source": [
    "s6.append(s5)"
   ]
  },
  {
   "cell_type": "code",
   "execution_count": 44,
   "id": "0c34a683-1727-4510-8127-6a606c95a5b7",
   "metadata": {},
   "outputs": [
    {
     "data": {
      "text/plain": [
       "7    59\n",
       "7    75\n",
       "dtype: int64"
      ]
     },
     "execution_count": 44,
     "metadata": {},
     "output_type": "execute_result"
    }
   ],
   "source": [
    "s6[7]"
   ]
  },
  {
   "cell_type": "code",
   "execution_count": 45,
   "id": "86c23977-0476-4b97-ad62-e3e043487398",
   "metadata": {},
   "outputs": [
    {
     "data": {
      "text/plain": [
       "2      NaN\n",
       "3      NaN\n",
       "4    640.0\n",
       "5      NaN\n",
       "6      NaN\n",
       "7    295.0\n",
       "7    375.0\n",
       "8      NaN\n",
       "9     52.0\n",
       "dtype: float64"
      ]
     },
     "execution_count": 45,
     "metadata": {},
     "output_type": "execute_result"
    }
   ],
   "source": [
    "s5*s6"
   ]
  },
  {
   "cell_type": "code",
   "execution_count": 46,
   "id": "6ef8e3ee-e2f6-49e9-a46b-1d8939061474",
   "metadata": {},
   "outputs": [
    {
     "data": {
      "text/plain": [
       "2     NaN\n",
       "3     NaN\n",
       "4    88.0\n",
       "5     NaN\n",
       "6     NaN\n",
       "7    64.0\n",
       "7    80.0\n",
       "8     NaN\n",
       "9    28.0\n",
       "dtype: float64"
      ]
     },
     "execution_count": 46,
     "metadata": {},
     "output_type": "execute_result"
    }
   ],
   "source": [
    "s5 + s6"
   ]
  },
  {
   "cell_type": "code",
   "execution_count": null,
   "id": "f3947205-3d6c-4e8f-ae12-7f296016b1ed",
   "metadata": {},
   "outputs": [],
   "source": []
  }
 ],
 "metadata": {
  "kernelspec": {
   "display_name": "Python 3 (ipykernel)",
   "language": "python",
   "name": "python3"
  },
  "language_info": {
   "codemirror_mode": {
    "name": "ipython",
    "version": 3
   },
   "file_extension": ".py",
   "mimetype": "text/x-python",
   "name": "python",
   "nbconvert_exporter": "python",
   "pygments_lexer": "ipython3",
   "version": "3.10.8"
  }
 },
 "nbformat": 4,
 "nbformat_minor": 5
}
